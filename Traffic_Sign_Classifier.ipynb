{
 "cells": [
  {
   "cell_type": "markdown",
   "metadata": {},
   "source": [
    "# Self-Driving Car Engineer Nanodegree\n",
    "\n",
    "## Deep Learning\n",
    "\n",
    "## Project: Build a Traffic Sign Recognition Classifier\n",
    "\n",
    "In this notebook, a template is provided for you to implement your functionality in stages, which is required to successfully complete this project. If additional code is required that cannot be included in the notebook, be sure that the Python code is successfully imported and included in your submission if necessary. \n",
    "\n",
    "> **Note**: Once you have completed all of the code implementations, you need to finalize your work by exporting the iPython Notebook as an HTML document. Before exporting the notebook to html, all of the code cells need to have been run so that reviewers can see the final implementation and output. You can then export the notebook by using the menu above and navigating to  \\n\",\n",
    "    \"**File -> Download as -> HTML (.html)**. Include the finished document along with this notebook as your submission. \n",
    "\n",
    "In addition to implementing code, there is a writeup to complete. The writeup should be completed in a separate file, which can be either a markdown file or a pdf document. There is a [write up template](https://github.com/udacity/CarND-Traffic-Sign-Classifier-Project/blob/master/writeup_template.md) that can be used to guide the writing process. Completing the code template and writeup template will cover all of the [rubric points](https://review.udacity.com/#!/rubrics/481/view) for this project.\n",
    "\n",
    "The [rubric](https://review.udacity.com/#!/rubrics/481/view) contains \"Stand Out Suggestions\" for enhancing the project beyond the minimum requirements. The stand out suggestions are optional. If you decide to pursue the \"stand out suggestions\", you can include the code in this Ipython notebook and also discuss the results in the writeup file.\n",
    "\n",
    "\n",
    ">**Note:** Code and Markdown cells can be executed using the **Shift + Enter** keyboard shortcut. In addition, Markdown cells can be edited by typically double-clicking the cell to enter edit mode."
   ]
  },
  {
   "cell_type": "markdown",
   "metadata": {},
   "source": [
    "---\n",
    "## Step 0: Load The Data"
   ]
  },
  {
   "cell_type": "code",
   "execution_count": null,
   "metadata": {
    "collapsed": false
   },
   "outputs": [],
   "source": [
    "# Load pickled data\n",
    "import pickle\n",
    "\n",
    "# TODO: Fill this in based on where you saved the training and testing data\n",
    "\n",
    "training_file  = './traffic-signs-data/train.p'\n",
    "validation_file= './traffic-signs-data/valid.p'\n",
    "testing_file   = './traffic-signs-data/test.p'\n",
    " \n",
    "with open(training_file, mode='rb') as f:\n",
    "    train = pickle.load(f)\n",
    "with open(validation_file, mode='rb') as f:\n",
    "    valid = pickle.load(f)\n",
    "with open(testing_file, mode='rb') as f:\n",
    "    test = pickle.load(f)\n",
    "    \n",
    "X_train, y_train = train['features'], train['labels']\n",
    "X_valid, y_valid = valid['features'], valid['labels']\n",
    "X_test,  y_test  =  test['features'],  test['labels']\n",
    "\n",
    "assert(len(X_train) == len(y_train))\n",
    "assert(len(X_valid) == len(y_valid))\n",
    "assert(len(X_test)  == len(y_test))"
   ]
  },
  {
   "cell_type": "markdown",
   "metadata": {},
   "source": [
    "---\n",
    "\n",
    "## Step 1: Dataset Summary & Exploration\n",
    "\n",
    "The pickled data is a dictionary with 4 key/value pairs:\n",
    "\n",
    "- `'features'` is a 4D array containing raw pixel data of the traffic sign images, (num examples, width, height, channels).\n",
    "- `'labels'` is a 1D array containing the label/class id of the traffic sign. The file `signnames.csv` contains id -> name mappings for each id.\n",
    "- `'sizes'` is a list containing tuples, (width, height) representing the original width and height the image.\n",
    "- `'coords'` is a list containing tuples, (x1, y1, x2, y2) representing coordinates of a bounding box around the sign in the image. **THESE COORDINATES ASSUME THE ORIGINAL IMAGE. THE PICKLED DATA CONTAINS RESIZED VERSIONS (32 by 32) OF THESE IMAGES**\n",
    "\n",
    "Complete the basic data summary below. Use python, numpy and/or pandas methods to calculate the data summary rather than hard coding the results. For example, the [pandas shape method](http://pandas.pydata.org/pandas-docs/stable/generated/pandas.DataFrame.shape.html) might be useful for calculating some of the summary results. "
   ]
  },
  {
   "cell_type": "markdown",
   "metadata": {},
   "source": [
    "### Provide a Basic Summary of the Data Set Using Python, Numpy and/or Pandas"
   ]
  },
  {
   "cell_type": "code",
   "execution_count": null,
   "metadata": {
    "collapsed": false
   },
   "outputs": [],
   "source": [
    "### Replace each question mark with the appropriate value. \n",
    "### Use python, pandas or numpy methods rather than hard coding the results\n",
    "#import \n",
    "\n",
    "# TODO: Number of training examples\n",
    "n_train = X_train.shape[0]\n",
    "\n",
    "# TODO: Number of testing examples.\n",
    "n_test = X_test.shape[0]\n",
    "\n",
    "# TODO: What's the shape of an traffic sign image? \n",
    "image_shape = X_train.shape[1:]\n",
    "\n",
    "# TODO: How many unique classes/labels there are in the dataset.\n",
    "# read number of classes from signnames.csv\n",
    "def bufcount(filename):\n",
    "    #http://stackoverflow.com/a/850962/5411817\n",
    "    f = open(filename)\n",
    "    lines = 0\n",
    "    buf_size = 1024 * 1024\n",
    "    read_f = f.read # loop optimization\n",
    "\n",
    "    buf = read_f(buf_size)\n",
    "    while buf:\n",
    "        lines += buf.count('\\n')\n",
    "        buf = read_f(buf_size)\n",
    "\n",
    "    return lines\n",
    "# first line in datafile is classnames: ClassID, SignName \n",
    "num_classes = bufcount('./signnames.csv') - 1\n",
    "\n",
    "\n",
    "print(\"Number of training examples =\", n_train)\n",
    "print(\"Number of testing examples =\", n_test)\n",
    "print(\"Image data shape =\", image_shape)\n",
    "print(\"Number of classes =\", num_classes)"
   ]
  },
  {
   "cell_type": "markdown",
   "metadata": {},
   "source": [
    "### Include an exploratory visualization of the dataset"
   ]
  },
  {
   "cell_type": "markdown",
   "metadata": {},
   "source": [
    "Visualize the German Traffic Signs Dataset using the pickled file(s). This is open ended, suggestions include: plotting traffic sign images, plotting the count of each sign, etc.\n",
    "\n",
    "The [Matplotlib](http://matplotlib.org/) [examples](http://matplotlib.org/examples/index.html) and [gallery](http://matplotlib.org/gallery.html) pages are a great resource for doing visualizations in Python.\n",
    "\n",
    "**NOTE:** It's recommended you start with something simple first. If you wish to do more, come back to it after you've completed the rest of the sections."
   ]
  },
  {
   "cell_type": "code",
   "execution_count": null,
   "metadata": {
    "collapsed": false
   },
   "outputs": [],
   "source": [
    "### Data exploration visualization code goes here.\n",
    "### Feel free to use as many code cells as needed.\n",
    "import matplotlib.pyplot as plt\n",
    "\n",
    "# Visualizations will be shown in the notebook.\n",
    "%matplotlib inline\n",
    "\n",
    "\n",
    "# SH look at training set labels. count how many images there are of each label\n",
    "import numpy as np\n",
    "from collections import Counter, OrderedDict\n",
    "def plot_data(data, title, short_label):\n",
    "    counts = Counter(data)\n",
    "    #print(counts, \"\\n|\")\n",
    "    counted = OrderedDict(sorted(counts.items()))\n",
    "    #print(counted[0], counted, \"\\n\")\n",
    "    final_count = [counted[i] for i in range(len(counted))]\n",
    "    #print(final, \"\\n\")\n",
    "    y_data = final_count\n",
    "    x_data = range(len(y_data))\n",
    "    \n",
    "    \n",
    "    fig, ax = plt.subplots()\n",
    "    ax.set_title(title)\n",
    "    ax.set_xlabel(\"traffic sign class number (0-42)\\n\")\n",
    "    ax.set_ylabel(\"number of example images (relative)\")\n",
    "    ax.bar(x_data, y_data)#, bins=len(y_data))#, normed=True)\n",
    "    #ax.hist(y_data)#, bins=len(y_data))#, normed=True)\n",
    "    #spacing = np.linspace(0, len(x_data), 1)\n",
    "    #ax.plot(x, 1 / np.sqrt(2*np.pi) * np.exp(-(x**2)/2), linewidth=4)\n",
    "    #ax.plot(x_data, y_data, linewidth=4)\n",
    "    \n",
    "    ax.set_xticks([])\n",
    "    ax.set_yticks([])\n",
    "    fig.savefig(\"bar_chart_\"+short_label+\"_data.png\", dpi=25)  # results in 160x120 px image\n",
    "\n",
    "print(\"Let's see how traffic sign examples are distributed \\nacross the Training, Validation, and Test sets\\n\")\n",
    "plot_data(y_train, \"Training Data: number of images in each class\", \"training\")\n",
    "plot_data(y_valid, \"Validation Data: number of images in each class\", \"validation\")\n",
    "plot_data(y_test, \"Test Data: number of images in each class\",\"test\")\n"
   ]
  },
  {
   "cell_type": "code",
   "execution_count": null,
   "metadata": {
    "collapsed": false
   },
   "outputs": [],
   "source": [
    "# diplay sample images from training data set\n",
    "def display_images(images):\n",
    "    num_channels = images[0].shape[-1]\n",
    "    #print(\"shape 1st image\", images[0].shape)\n",
    "    num_images = len(images)\n",
    "    #print(num_images, \"num_images, num_channels:\", num_channels)\n",
    "    plt.figure(1)\n",
    "    rows = 1\n",
    "    cols = int(num_images/rows)\n",
    "    for i in range(num_images):\n",
    "        plt.subplot(rows, cols, i+1)\n",
    "        if num_channels == 3:\n",
    "            plt.imshow(images[i])\n",
    "        #elif num_channels == 1:\n",
    "        else:\n",
    "            #print(\"grayscale\")\n",
    "            plt.imshow(images[i], cmap = plt.get_cmap('gray'))\n",
    "        #else: print(\"error, number of channels should be 1 or 3\")\n",
    "    plt.show()\n",
    "\n",
    "print(\"Sample images from training data set\")\n",
    "sample_images = [X_train[50], X_train[500], X_train[1000]]\n",
    "display_images(sample_images)\n",
    "\n",
    "# consider showing histogram of individual sample images\n",
    "# consider showing average histogram of all images\n",
    "# consider showing zero mean of sample images\n",
    "# consider showing normalized sample images\n"
   ]
  },
  {
   "cell_type": "raw",
   "metadata": {},
   "source": [
    "'''\n",
    "#normalized_rgb   = np.zeros(image_shape, np.uint8)\n",
    "#normalized_image = np.zeros(image_shape, np.uint8)\n",
    "# normalized in color\n",
    "def rgb_normalizer(image):\n",
    "    normalized_rgb   = np.zeros(image_shape, np.uint8)\n",
    "    normalized_channel = np.zeros([image_shape[0], image_shape[1], 1], np.uint8)\n",
    "\n",
    "    r = image[:,:,0]\n",
    "    g = image[:,:,1]\n",
    "    b = image[:,:,2]\n",
    "    print(\"rgb\\n\", r[0][0:15],\"\\n\", g[0][0:15],\"\\n\", b[0][0:15])\n",
    "    rgb_sum = r+b+g\n",
    "    rgb_mean = rgb_sum.mean() \n",
    "    r_ave = r.mean()\n",
    "    g_ave = g.mean()\n",
    "    b_ave = b.mean()\n",
    "    if rgb_mean == 0: rgb_mean = 0.01  #avoid divide by zero for pure black image\n",
    "    print(\"rgb_ave\", rgb_mean)\n",
    "    print(\"r_ave  \", r_ave)\n",
    "    #print(\"rgb_sum[0]\\n\", rgb_sum[0][0:15])\n",
    "\n",
    "    rgb_multiplier = np.float32(128/rgb_mean) #3*255 #128 #123*3\n",
    "    #rgb_multiplier = np.float32(3*128/rgb_mean) #3*255 #128 #123*3\n",
    "    print(\"rgb_mul \", rgb_multiplier)\n",
    "    \n",
    "    channels = [r, g, b]\n",
    "    print(\"normalized\")\n",
    "    for channel in range(len(channels)):\n",
    "        channel_multiplier = rgb_multiplier\n",
    "        #channel_multiplier = np.float32(128/channels[channel].mean()) #rgb_multiplier\n",
    "        #channel_multiplier = (128/rgb_multiplier + channel_multiplier)/2\n",
    "        normalized_channel = np.rint(np.float32(channel_multiplier * channels[channel])).astype(int)\n",
    "        print(normalized_channel[0][0:15])       \n",
    "        normalized_rgb[0:,0:,channel] = normalized_channel\n",
    "    print()\n",
    "    return normalized_rgb\n",
    "\n",
    "sample_images = [X_train[1000], X_train[500], X_train[50]]\n",
    "#image_1000 = X_train[1000]\n",
    "#normalized_rgb = rgb_normalizer(image_1000)\n",
    "#imgplot = plt.imshow(normalized_rgb)\n",
    "\n",
    "plt.figure(1)\n",
    "num_images = len(sample_images)\n",
    "for i in range(num_images):\n",
    "    #sample_image = sample_images[i]\n",
    "    #normalized_rgb = rgb_normalizer(sample_image)\n",
    "    plt.subplot(num_images, 2, 2*i+1)\n",
    "    plt.imshow(sample_images[i])\n",
    "    plt.subplot(num_images, 2, 2*i+2)\n",
    "    plt.imshow(rgb_normalizer(sample_images[i]))\n",
    "'''\n",
    "'''\n",
    "image = X_train[50]\n",
    "normalized_rgb = rgb_normalizer(image)\n",
    "plt.subplot(223)\n",
    "plt.imshow(image)\n",
    "plt.subplot(224)\n",
    "plt.imshow(normalized_rgb)\n",
    "'''\n",
    "'''\n",
    "plt.show()\n",
    "'''"
   ]
  },
  {
   "cell_type": "raw",
   "metadata": {},
   "source": [
    "'''\n",
    "def rgb_grayscale_combo(color_image, bw):\n",
    "    combo_image   = np.zeros(image_shape, np.uint8)\n",
    "    combo_channel = np.zeros(image_shape, np.uint8)\n",
    "\n",
    "    r = color_image[:,:,0]\n",
    "    g = color_image[:,:,1]\n",
    "    b = color_image[:,:,2]\n",
    "    #print(\"rgb\\n\", r[0][0:15],\"\\n\", g[0][0:15],\"\\n\", b[0][0:15])\n",
    "    #rgb_sum = np.float32(r+b+g+.1)\n",
    "    rgb_sum = np.float32(r) + np.float32(b) + np.float32(g) +.1\n",
    "    ##print(\"rgb_sum\\n\", rgb_sum[0][0:15])\n",
    "    #if rgb_sum == 0: rgb_sum = 0.01  #avoid divide by zero for pure black pixel\n",
    "    ##print(\"bw\\n\",bw[0][0:15])\n",
    "    rgb_mean = rgb_sum.mean() \n",
    "    r_ave = r.mean()\n",
    "    g_ave = g.mean()\n",
    "    b_ave = b.mean()\n",
    "    channels_ave = [r_ave, g_ave, b_ave]\n",
    "    if rgb_mean == 0: rgb_mean = 0.01  #avoid divide by zero for pure black image\n",
    "    print(\"rgb_ave\", rgb_mean)\n",
    "    print(\"r_ave  \", r_ave)\n",
    "    #print(\"rgb_sum[0]\\n\", rgb_sum[0][0:15])\n",
    "\n",
    "    rgb_multiplier = np.float32(128/rgb_mean) #3*255 #128 #123*3\n",
    "    #rgb_multiplier = np.float32(3*128/rgb_mean) #3*255 #128 #123*3\n",
    "    #print(\"rgb_mul \", rgb_multiplier)\n",
    "    \n",
    "    channels = [r, g, b]\n",
    "    print(\"combo\")\n",
    "    for channel in range(len(channels)):\n",
    "        #channel_multiplier = rgb_sum /(255 * bw)\n",
    "        ##channel_multiplier = channels_ave[channel]  / (128 * bw)\n",
    "        ##print(\"channel_multiplier\", channel_multiplier[0][0:15])\n",
    "        #channel_multiplier = np.float32(128/channels[channel].mean()) #rgb_multiplier\n",
    "        #channel_multiplier = (128/rgb_multiplier + channel_multiplier)/2\n",
    "        ##combo_channel = np.rint(np.float32(channel_multiplier * channels[channel])).astype(int)\n",
    "        \n",
    "        #channel_value = (bw) * 255 * ((3*128.0/rgb_mean) - (rgb_sum-channels[channel])/rgb_sum)  ##/ (128 * bw)\n",
    "        #channel_value = 255*(bw) * ((128.0)/rgb_mean) * (1-(rgb_sum-channels[channel])/rgb_sum)  ##/ (128 * bw)\n",
    "        channel_value = 255*(bw) * ((128.0)/rgb_mean) * (1-(rgb_sum/rgb_mean-channels[channel]/channels_ave[channel])/(rgb_sum/rgb_mean))  ##/ (128 * bw)\n",
    "        #channel_value = 255*(bw) * 3*(np.float32(channels[channel])/np.float32(rgb_sum))  ##/ (128 * bw)\n",
    "        combo_channel = np.rint(np.float32(channel_value)).astype(int)\n",
    "        \n",
    "        #print(combo_channel[0][0:15]) \n",
    "        combo_image[0:,0:,channel] = combo_channel\n",
    "        #print(\"diff\\n\", (color_image[18:18][10:15]-combo_image[18:18][10:15])[:])\n",
    "    print()\n",
    "    return combo_image\n",
    "\n",
    "plt.figure(2)\n",
    "sample_images = [X_train[1000], X_train[500], X_train[50]]\n",
    "num_images = len(sample_images)\n",
    "bw_images = []\n",
    "for i in range(num_images):\n",
    "    bw_images.append(color.rgb2gray(sample_images[i]))\n",
    "for i in range(num_images):\n",
    "    #sample_image = sample_images[i]\n",
    "    #normalized_rgb = rgb_normalizer(sample_image)\n",
    "    plt.subplot(num_images, 2, 2*i+1)\n",
    "    plt.imshow(sample_images[i])\n",
    "    plt.subplot(num_images, 2, 2*i+2)\n",
    "    plt.imshow(rgb_grayscale_combo(sample_images[i], bw_images[i]))\n",
    "plt.show()\n",
    "'''"
   ]
  },
  {
   "cell_type": "code",
   "execution_count": null,
   "metadata": {
    "collapsed": true
   },
   "outputs": [],
   "source": [
    "#print(\"normlizing as rgb\")\n",
    "#for i in ranage(len(X_train)):\n",
    "#    rgb_normalizer(X_train[i])"
   ]
  },
  {
   "cell_type": "raw",
   "metadata": {},
   "source": [
    "'''\n",
    "from skimage import color\n",
    "gray_img1000 = color.rgb2gray(X_train[1000])\n",
    "#imgplot = plt.imshow(gray_img1000)\n",
    "print(\"grayscale image\")\n",
    "imgplot= plt.imshow(gray_img1000, cmap = plt.get_cmap('gray'))\n",
    "print(\"converting validation data to grayscale\")\n",
    "gray_valid = color.rgb2gray(X_valid)\n",
    "print(\"converting training data to grayscale\")\n",
    "gray_train = color.rgb2gray(X_train)\n",
    "print(\"converting training data to grayscale\")\n",
    "gray_test = color.rgb2gray(X_test)\n",
    "print(\"done converting to grayscale\")\n",
    "'''"
   ]
  },
  {
   "cell_type": "raw",
   "metadata": {},
   "source": [
    "'''\n",
    "from sklearn.preprocessing import normalize\n",
    "print(\"normalized grayscale image\")\n",
    "fig = plt.figure(1)\n",
    "plt.subplot(1, 2, 1)\n",
    "normalized_gray_image1000 = normalize(X_train[500,:,:,2])#(gray_img1000)\n",
    "plt.imshow(normalized_gray_image1000, cmap = plt.get_cmap('gray'))\n",
    "#im2 = fig.add_subplot()\n",
    "#im2=plt.imshow(normalized_gray_image1000, cmap = plt.get_cmap('gray'))\n",
    "print(\"normalizing grayscale validation images\")\n",
    "norm_gray_valid = color.rgb2gray(normalize(X_valid[:,:,:]))\n",
    "print(\"normalizing grayscale training images\")\n",
    "norm_gray_train = color.rgb2gray(normalize(X_train[:,:,:]))\n",
    "print(\"normalizing grayscale test images\")\n",
    "norm_gray_test = color.rgb2gray(gray_test)\n",
    "\n",
    "\n",
    "print(\"creating 3channel version of normalized grayscale image\")\n",
    "gray_rgb_normalized_train = np.zeros(X_train.shape, np.uint8)\n",
    "gray_rgb_normalized_valid = np.zeros(X_valid.shape, np.uint8)\n",
    "gray_rgb_normalized_test  = np.zeros(X_test.shape,  np.uint8)\n",
    "print( [3 *4])\n",
    "\n",
    "#gray_rgb_normalized_train[:,:,:,0] = gray_rgb_normalized_train[:,:,:,1] = gray_rgb_normalized_train[:,:,:,2] = norm_gray_train\n",
    "gray_rgb_normalized_train[:,:,:,[norm_gray_train,norm_gray_train,norm_gray_train]] \n",
    "print(gray_valid.shape, norm_gray_valid.shape)\n",
    "gray_rgb_normalized_valid[:,:,:,0] = gray_rgb_normalized_valid[:,:,:,1] = gray_rgb_normalized_valid[:,:,:,2] = norm_gray_valid\n",
    "#gray_rgb_normalized_test[i][:,:,0]  = gray_rgb_normalized_test[i][:,:,1]  = gray_rgb_normalized_test[i][:,:,2]  = norm_gray_test\n",
    "\n",
    "plt.subplot(1,2,2)\n",
    "plt.imshow(gray_rgb_normalized_test[500])\n",
    "'''"
   ]
  },
  {
   "cell_type": "raw",
   "metadata": {
    "collapsed": false
   },
   "source": [
    "'''\n",
    "from sklearn.preprocessing import normalize\n",
    "# zero center the data\n",
    "# subtract the mean of TRAINING DATA from each of the train, valid, test sets\n",
    "X_train = X_train.astype(np.float32)\n",
    "X_valid = X_valid.astype(np.float32)\n",
    "X_test  = X_test.astype(np.float32)\n",
    "training_data_mean = np.mean(X_train, axis=0)\n",
    "print(training_data_mean.shape, training_data_mean)\n",
    "X_train -= training_data_mean\n",
    "X_valid -= training_data_mean\n",
    "X_test  -= training_data_mean\n",
    "\n",
    "# display\n",
    "sample_images=[X_train[50], X_train[500], X_train[1000]]\n",
    "display_images(sample_images)\n",
    "print(sample_images[0][16][16][0:5])\n",
    "'''"
   ]
  },
  {
   "cell_type": "raw",
   "metadata": {},
   "source": [
    "\"\"\"\n",
    "from sklearn.preprocessing import normalize\n",
    "def separate_channels(images):\n",
    "    # returns 2-D array\n",
    "    R = images[:,:,:,0].reshape(len(images),-1)\n",
    "    G = images[:,:,:,1].reshape(len(images),-1)\n",
    "    B = images[:,:,:,2].reshape(len(images),-1)\n",
    "    return [R,G,B]\n",
    "\n",
    "def combine_channels(R,G,B):\n",
    "    # returns 4-D array\n",
    "    R =  R.reshape(-1, 32, 32, 1)\n",
    "    G =  G.reshape(-1, 32, 32, 1)\n",
    "    B =  B.reshape(-1, 32, 32, 1)\n",
    "    rgb = []\n",
    "    return rgb\n",
    "\n",
    "R, G, B = separate_channels(X_train)\n",
    "r_norm = normalize(R)\n",
    "print(\"normalized R\")\n",
    "g_norm = normalize(G)\n",
    "print(\"normalized G\")\n",
    "b_norm = normalize(B)\n",
    "print(\"normalized B\")\n",
    "R = r_norm.reshape(-1,32,32,1)\n",
    "print(R)\n",
    "G = g_norm.reshape(-1,32,32,1)\n",
    "B = b_norm.reshape(-1,32,32,1)\n",
    "print(R.shape)\n",
    "X_train[:,:,:,0] = R[:,:,:,0]\n",
    "X_train[:,:,:,1] = G[:,:,:,0]\n",
    "X_train[:,:,:,2] = B[:,:,:,0]\n",
    "#display_images([X_train[50]])#, G[500], B[1000]])\n",
    "print(X_train[500][16][:][:])\n",
    "\"\"\""
   ]
  },
  {
   "cell_type": "code",
   "execution_count": null,
   "metadata": {
    "collapsed": false
   },
   "outputs": [],
   "source": [
    "# grayscale images\n",
    "from skimage import color\n",
    "print(\"converting to grayscale..\")\n",
    "X_train_gray = color.rgb2gray(X_train)\n",
    "X_valid_gray = color.rgb2gray(X_valid)\n",
    "X_test_gray  = color.rgb2gray(X_test)\n",
    "gray_image_shape = X_train_gray.shape\n",
    "print(X_train_gray.shape,X_valid_gray.shape, X_test_gray.shape, \"gray single channel conversion\")\n",
    "assert (gray_image_shape[1:] == (32, 32)) #32px x 32px, 1 color channel: grayscale\n",
    "display_images([X_train_gray[50], X_train_gray[500], X_train_gray[1000]])"
   ]
  },
  {
   "cell_type": "code",
   "execution_count": null,
   "metadata": {
    "collapsed": false
   },
   "outputs": [],
   "source": [
    "# turn grayscale into 3channel rgb grayscale\n",
    "# (not ideal paramater-wise = duplicated data, but for shipping through my LeNet, it should remove shaping problems)\n",
    "print(\"converted to 3 channel grayscale\")\n",
    "X_train_gray3D = np.stack((X_train_gray,)*3, axis=-1)\n",
    "X_valid_gray3D = np.stack((X_valid_gray,)*3, axis=-1)\n",
    "X_test_gray3D  = np.stack((X_test_gray,)*3,  axis=-1)\n",
    "print(X_train_gray3D.shape, X_valid_gray3D.shape, X_test_gray3D.shape, \"gray 3D shape\")\n",
    "display_images([X_train_gray3D[50], X_train_gray3D[500], X_train_gray3D[1000]])"
   ]
  },
  {
   "cell_type": "raw",
   "metadata": {},
   "source": [
    "\"\"\"\n",
    "# turn grayscale into 3channel rgb grayscale\n",
    "#  sqrt(0.299 * R^2 + 0.587 * G^2 + 0.114 * B^2)\n",
    "# (not ideal paramater-wise = duplicated data, but for shipping through my LeNet, it should remove shaping problems)\n",
    "R = X_train_gray * 2* np.sqrt(3) # 2/6  # 1/3\n",
    "G = X_train_gray * 2* np.sqrt(3) # 3/6  # 1/3\n",
    "B = X_train_gray * 2* np.sqrt(3) # 1/6  # 1/3\n",
    "X_train_gray3D = np.stack((R, G, B), axis=-1)\n",
    "#X_valid_gray3D = np.stack((X_valid_gray,)*3, axis=-1)\n",
    "#X_test_gray3D  = np.stack((X_test_gray,)*3,  axis=-1)\n",
    "print(X_valid_gray.shape)\n",
    "display_images([X_train_gray3D[50], X_train_gray3D[500], X_train_gray3D[1000]])\n",
    "\"\"\""
   ]
  },
  {
   "cell_type": "markdown",
   "metadata": {},
   "source": [
    "----\n",
    "\n",
    "## Step 2: Design and Test a Model Architecture\n",
    "\n",
    "Design and implement a deep learning model that learns to recognize traffic signs. Train and test your model on the [German Traffic Sign Dataset](http://benchmark.ini.rub.de/?section=gtsrb&subsection=dataset).\n",
    "\n",
    "The LeNet-5 implementation shown in the [classroom](https://classroom.udacity.com/nanodegrees/nd013/parts/fbf77062-5703-404e-b60c-95b78b2f3f9e/modules/6df7ae49-c61c-4bb2-a23e-6527e69209ec/lessons/601ae704-1035-4287-8b11-e2c2716217ad/concepts/d4aca031-508f-4e0b-b493-e7b706120f81) at the end of the CNN lesson is a solid starting point. You'll have to change the number of classes and possibly the preprocessing, but aside from that it's plug and play! \n",
    "\n",
    "With the LeNet-5 solution from the lecture, you should expect a validation set accuracy of about 0.89. To meet specifications, the validation set accuracy will need to be at least 0.93. It is possible to get an even higher accuracy, but 0.93 is the minimum for a successful project submission. \n",
    "\n",
    "There are various aspects to consider when thinking about this problem:\n",
    "\n",
    "- Neural network architecture (is the network over or underfitting?)\n",
    "- Play around preprocessing techniques (normalization, rgb to grayscale, etc)\n",
    "- Number of examples per label (some have more than others).\n",
    "- Generate fake data.\n",
    "\n",
    "Here is an example of a [published baseline model on this problem](http://yann.lecun.com/exdb/publis/pdf/sermanet-ijcnn-11.pdf). It's not required to be familiar with the approach used in the paper but, it's good practice to try to read papers like these."
   ]
  },
  {
   "cell_type": "markdown",
   "metadata": {},
   "source": [
    "### Pre-process the Data Set (normalization, grayscale, etc.)"
   ]
  },
  {
   "cell_type": "markdown",
   "metadata": {},
   "source": [
    "Use the code cell (or multiple code cells, if necessary) to implement the first step of your project."
   ]
  },
  {
   "cell_type": "code",
   "execution_count": null,
   "metadata": {
    "collapsed": false
   },
   "outputs": [],
   "source": [
    "### Preprocess the data here. Preprocessing steps could include normalization, converting to grayscae, etc.\n",
    "### Feel free to use as many code cells as needed.\n",
    "\n",
    "from sklearn.utils import shuffle\n",
    "from sklearn.preprocessing import normalize\n",
    "from skimage import color\n",
    "import tensorflow as tf\n",
    "\n",
    "# images as imported are already sized properly for leNet at (32x32)\n",
    "assert ((X_train.shape[1],X_train.shape[2]) == (32, 32))  #32px x 32px, 3 color channels:RGB\n",
    "\n",
    "# shuffle data\n",
    "X_train, y_train = shuffle(X_train, y_train)\n",
    "X_valid, y_valid = shuffle(X_valid, y_valid)\n",
    "    # don't need to shuffle test data\n"
   ]
  },
  {
   "cell_type": "raw",
   "metadata": {},
   "source": [
    "\n",
    "''' \n",
    "# normalization\n",
    "print(\"normalizing\")\n",
    "#for i in range(len(X_train))\n",
    "#X_train=[(i, tf.image.per_image_standardization(X_train[i])) for i in range(len(X_train))] \n",
    "#list(map(lambda x: x**2, range(10)))\n",
    "#tf.image.per_image_standardization(X_valid)\n",
    "#tf.image.per_image_standardization(X_test)\n",
    "##X_valid=[(i, tf.image.per_image_standardization(X_valid[i])) for i in range(len(X_valid))] \n",
    "#X_test=[(i, tf.image.per_image_standardization(X_test[i]))  for i in range(len(X_test))]\n",
    "#X_valid = N_valid\n",
    "\n",
    "X_train_preprocessed = normalized(X_train)\n",
    "X_valid_preprocessed = normalized(X_valid)\n",
    "X_test_preprocessed  = normalized(X_test)\n",
    "\n",
    "print(\"normalized image:\")\n",
    "x_1000_normalized = normalize(X_train_preprocessed[1000])\n",
    "imgplot = plt.imshow(x_1000_normalized)\n",
    "\n",
    "# to grayscale\n",
    "#Gray Scale you could use cvtcolor from OpenCV:\n",
    "#gray_image = cv2.cvtColor(image, cv2.COLOR_BGR2GRAY)\n",
    "\n",
    "print(\"to grayscale\")\n",
    "X_train_preprocessed = color.rgb2gray(X_train_preprocessed)\n",
    "X_valid_preprocessed = color.rgb2gray(X_valid_preprocessed)\n",
    "X_test_preprocessed  = color.rgb2gray(X_test_preprocessed)\n",
    "print(\"grayscale done\")\n",
    "#imgplot = plt.imshow(X_train[1000], cmap=\"gray\")\n",
    "image_shape = X_train_preprocessed.get_shape().as_list()[1:]\n",
    "print(image_shape)\n",
    "assert (image_shape == [32, 32, 1])  #32px x 32px, 1 color channel: grayscale\n",
    "'''\n"
   ]
  },
  {
   "cell_type": "code",
   "execution_count": null,
   "metadata": {
    "collapsed": false
   },
   "outputs": [],
   "source": [
    "# define training variables, constants\n",
    "\n",
    "EPOCHS = 100\n",
    "BATCH_SIZE = 128\n",
    "\n",
    "#mu = 0\n",
    "#sigma = 0.1  # or try .01, or .. 1/sqrt(32*32*3) = 1/55 = .018; bw: 1/sqrt(32*32*1) = 1/32 = 0.03125\n",
    "#training_rate = 0.01\n",
    "\n",
    "def filter_size(in_size, out_size, stride):\n",
    "    assert(padding == \"VALID\")\n",
    "    return (in_size+1) - (out_size*stride)\n",
    "\n",
    "def output_size(in_size, filter_size, stride):\n",
    "    #(W−F+2P)/S+1\n",
    "    assert(padding == \"VALID\")\n",
    "    pad = 0\n",
    "    return 1 + (in_size-filter_size+2*pad)/stride\n",
    "\n",
    "padding = \"VALID\"\n",
    "stride = 1\n",
    "strides = [1, stride, stride, 1]\n",
    "pool_stride = 2\n",
    "pool_strides = [1, pool_stride, pool_stride, 1]\n",
    "ksize = pool_strides\n",
    "print(\"finished cell\")\n",
    "\n",
    "\n"
   ]
  },
  {
   "cell_type": "markdown",
   "metadata": {},
   "source": [
    "### Model Architecture"
   ]
  },
  {
   "cell_type": "raw",
   "metadata": {
    "collapsed": true
   },
   "source": [
    "### Define your architecture here.\n",
    "### Feel free to use as many code cells as needed.\n"
   ]
  },
  {
   "cell_type": "raw",
   "metadata": {},
   "source": [
    "\"\"\"\n",
    "def get_conv_layer_from_filter(x, filter_shape):\n",
    "    input_height,  input_width,  input_depth  = x.get_shape().as_list()[1:]\n",
    "    filter_height, filter_width = filter_shape\n",
    "\n",
    "    output_height = output_size(input_height, filter_height, stride)\n",
    "    output_width  = output_size(input_width,  filter_width,  stride)\n",
    "    output_depth  = input_depth\n",
    "    print(\"output_size\", x , output_height)\n",
    "\n",
    "    weights_shape  = [filter_height, filter_width, input_depth, output_depth]\n",
    "    bias_shape     = [output_depth]\n",
    "\n",
    "    # initialize weights\n",
    "    filter_weights = tf.Variable(tf.truncated_normal(weights_shape, mean=mu, stddev=sigma))\n",
    "    filter_bias    = tf.Variable(tf.zeros(bias_shape))\n",
    "\n",
    "    layer1 = tf.nn.conv2d(x, filter_weights, strides, padding) + filter_bias\n",
    "    print(\"conv output shape:\", layer1.get_shape().as_list()[1:])\n",
    "\n",
    "    # Activation\n",
    "    layer1 = tf.nn.relu(layer1)\n",
    "\n",
    "    # Pooling (28,28,6?) --> (14,14,?6)\n",
    "    input_height,  input_width,  input_depth  = layer1.get_shape()[1:]\n",
    "\n",
    "    ksize = [1, 2, 2, 1]\n",
    "    pool_strides = ksize\n",
    "    layer1 = tf.nn.max_pool(layer1, ksize, pool_strides, padding)\n",
    "    print(\"pool_output_shape: \", layer1.get_shape().as_list()[1:] )\n",
    "\n",
    "    return layer1\n",
    "\"\"\"\n"
   ]
  },
  {
   "cell_type": "code",
   "execution_count": null,
   "metadata": {
    "collapsed": false
   },
   "outputs": [],
   "source": [
    "def get_conv_layer(x, conv_output_shape, pool_output_shape):\n",
    "    input_height,  input_width,  input_depth  = x.get_shape().as_list()[1:]\n",
    "    output_height, output_width, output_depth = conv_output_shape  #(28, 28, 6)\n",
    "\n",
    "    filter_height = filter_size(input_height, output_height, stride)\n",
    "    filter_width  = filter_size(input_width,  output_width,  stride)\n",
    "    print(\"filter\", x , filter_height)\n",
    "    weights_shape  = [filter_height, filter_width, input_depth, output_depth]\n",
    "    bias_shape     = [output_depth]\n",
    "\n",
    "    # initialize weights\n",
    "    filter_weights = tf.Variable(tf.truncated_normal(weights_shape, mean=mu, stddev=sigma))\n",
    "    filter_bias    = tf.Variable(tf.zeros(bias_shape))\n",
    "\n",
    "    layer1 = tf.nn.conv2d(x, filter_weights, strides, padding) + filter_bias\n",
    "\n",
    "    #print(conv_output_shape, \"=?=\", layer1.get_shape().as_list()[1:])\n",
    "    assert( conv_output_shape == layer1.get_shape().as_list()[1:])\n",
    "\n",
    "    # Activation\n",
    "    layer1 = tf.nn.relu(layer1)\n",
    "\n",
    "    # Pooling (28,28,6?) --> (14,14,?6)\n",
    "    input_height,  input_width,  input_depth  = layer1.get_shape()[1:]\n",
    "    output_height, output_width, output_depth = pool_output_shape #(14, 14, input_depth)\n",
    "\n",
    "    ksize = [1, 2, 2, 1]\n",
    "    pool_strides = ksize\n",
    "    layer1 = tf.nn.max_pool(layer1, ksize, pool_strides, padding)\n",
    "    #print( pool_output_shape, \"=?=\", layer1.get_shape().as_list()[1:] )\n",
    "    assert( pool_output_shape == layer1.get_shape().as_list()[1:] )\n",
    "\n",
    "    return layer1\n",
    "\n"
   ]
  },
  {
   "cell_type": "code",
   "execution_count": null,
   "metadata": {
    "collapsed": false
   },
   "outputs": [],
   "source": [
    "def get_fcc_layer(prev_layer, output_length):\n",
    "    input_length  = prev_layer.get_shape().as_list()[1]\n",
    "    weights_shape = [input_length, output_length]\n",
    "    bias_shape    = [output_length]\n",
    "    #print(weights_shape, bias_shape, \"get_fcc_layer: input_shape, output_shape\")\n",
    "\n",
    "    fcc_weights = tf.Variable(tf.truncated_normal(weights_shape, mean=mu, stddev=sigma))\n",
    "    fcc_bias    = tf.Variable(tf.zeros(bias_shape))\n",
    "\n",
    "    fcc_layer = tf.add(tf.matmul(prev_layer, fcc_weights), fcc_bias)\n",
    "    assert([output_length] == fcc_layer.get_shape().as_list()[1:])\n",
    "\n",
    "    return fcc_layer"
   ]
  },
  {
   "cell_type": "code",
   "execution_count": null,
   "metadata": {
    "collapsed": true
   },
   "outputs": [],
   "source": [
    "from tensorflow.contrib.layers import flatten\n",
    "\n",
    "def LeNet(x):\n",
    "    if x.get_shape()[-1] == 3:\n",
    "        layer1 = get_conv_layer(x, [28,28,6], [14,14,6])\n",
    "        layer2 = get_conv_layer(layer1, [10,10,16], [5,5,16])\n",
    "    #elif x.get_shape()[-1] == 1:\n",
    "    #    layer1 = get_conv_layer_from_filter(     x, [3,3])\n",
    "    #    layer2 = get_conv_layer_from_filter(layer1, [3,3])\n",
    "    else: print(\"error: images should be 1d or 3d\")\n",
    "    \n",
    "    flattened = tf.contrib.layers.flatten(layer2)\n",
    "    \n",
    "    layer3 = get_fcc_layer(flattened, 120)\n",
    "    layer3 = tf.nn.relu(layer3)\n",
    "\n",
    "    layer4 = get_fcc_layer(layer3, 84)\n",
    "    layer4 = tf.nn.relu(layer4)\n",
    "    # maybe try dropout layer\n",
    "    \n",
    "    logits = get_fcc_layer(layer4, num_classes)\n",
    "    assert( [logits.get_shape().as_list()[1] ] == [num_classes])\n",
    "\n",
    "    \n",
    "    return logits\n"
   ]
  },
  {
   "cell_type": "markdown",
   "metadata": {},
   "source": [
    "### Train, Validate and Test the Model"
   ]
  },
  {
   "cell_type": "markdown",
   "metadata": {},
   "source": [
    "A validation set can be used to assess how well the model is performing. A low accuracy on the training and validation\n",
    "sets imply underfitting. A high accuracy on the training set but low accuracy on the validation set implies overfitting."
   ]
  },
  {
   "cell_type": "code",
   "execution_count": null,
   "metadata": {
    "collapsed": true
   },
   "outputs": [],
   "source": [
    "### Train your model here.\n",
    "### Calculate and report the accuracy on the training and validation set.\n",
    "### Once a final model architecture is selected, \n",
    "### the accuracy on the test set should be calculated and reported as well.\n",
    "### Feel free to use as many code cells as needed."
   ]
  },
  {
   "cell_type": "code",
   "execution_count": null,
   "metadata": {
    "collapsed": false
   },
   "outputs": [],
   "source": [
    "## initialize\n",
    "#X_train_gray.reshape(len(X_train_gray), 32, 32, 1)\n",
    "#print(\"new shape\", X_train_gray.shape)\n",
    "print(X_valid_gray3D.shape)\n",
    "# choose which pre-processed set to work with\n",
    "X_train = X_train  #X_train_gray3D  #X_train_gray  #X_train   #norm_gray_train\n",
    "X_valid = X_valid  #X_valid_gray3D  #X_valid_gray  #X_valid   #norm_gray_valid\n",
    "X_test  = X_test   #X_test_gray3D   #X_test_gray   #X_test    #norm_gray_test\n",
    "# y_train, y_valid, y_test remain the same from import\n",
    "print(X_train.shape, X_valid.shape, X_test.shape)\n",
    "\n",
    "image_shape = X_train.shape\n",
    "pixels_x, pixels_y, color_depth = image_shape[1:]\n",
    "\n",
    "# bw vs color images\n",
    "#if len(image_shape) == 4:\n",
    "#    pixels_x, pixels_y, color_depth = image_shape[1:]\n",
    "#elif len(image_shape) == 3:\n",
    "#    pixels_x, pixels_y = image_shape[1:]\n",
    "#    color_depth = 1\n",
    "#else: print(\"hmmm, something's wrong with the image_shape\")\n",
    "#print (pixels_x, pixels_y, color_depth)\n",
    "\n",
    "# features, labels\n",
    "x = tf.placeholder(tf.float32, (None, pixels_x, pixels_y, color_depth))\n",
    "y = tf.placeholder(tf.int64,   (None))\n",
    "\n",
    "# store a record of training and validation loss and accuracy - can be used to plot and evaluate the model\n",
    "#stats = tf.placeholder(tf.float32, (None, 4))\n",
    "\n",
    "# run leNet\n",
    "mu = 0\n",
    "sigma = 0.01  #0.1   #1.0/np.sqrt(pixels_x * pixels_y * color_depth)   #sigma 0.1  # or try .01, or .. 1/sqrt(32*32*3) = 1/55 = .018; bw: 1/sqrt(32*32*1) = 1/32 = 0.03125\n",
    "#print(sigma)\n",
    "learning_rate = .001    #0.01\n",
    "\n",
    "logits = LeNet(x)\n",
    "\n",
    "\n",
    "# tf.nn.sparse_softmax_cross_entropy_with_logits\n",
    "#   use this function instead of separate functions:\n",
    "#   1) softmax with 2) cross_entropy and 3)(sparce) includes one-hot\n",
    "#   softmax_cross_entropy_with_logits is more numerically stable/\n",
    "#       accurate than running two steps of softmax, then cross_entropy\n",
    "#   using the sparse_.. also saves a step by not having to convert labels\n",
    "#       to one-hot first\n",
    "# http://stackoverflow.com/a/34243720/5411817\n",
    "\n",
    "# loss\n",
    "cross_entropy  = tf.nn.sparse_softmax_cross_entropy_with_logits(logits, y)#labels)\n",
    "loss_operation = tf.reduce_mean(cross_entropy)\n",
    "\n",
    "# train\n",
    "optimizer = tf.train.AdamOptimizer(learning_rate=learning_rate)\n",
    "training_operation = optimizer.minimize(loss_operation)\n",
    "\n",
    "# accuracy\n",
    "model_prediction = tf.argmax(logits, 1)\n",
    "prediction_is_correct = tf.equal(model_prediction, y)#labels)\n",
    "accuracy_calculation   = tf.reduce_mean(tf.cast(prediction_is_correct, tf.float32))\n",
    "training_stats = []"
   ]
  },
  {
   "cell_type": "markdown",
   "metadata": {},
   "source": []
  },
  {
   "cell_type": "code",
   "execution_count": null,
   "metadata": {
    "collapsed": true
   },
   "outputs": [],
   "source": [
    "# evaluation routine\n",
    "def evaluate_data(X_data, y_data):\n",
    "    print(\"evaluating..\")\n",
    "    sess = tf.get_default_session()\n",
    "    total_loss = 0\n",
    "    total_accuracy = 0\n",
    "    \n",
    "    num_samples = len(X_data)\n",
    "    for batch_start in range(0, num_samples, BATCH_SIZE):\n",
    "        batch_end = batch_start + BATCH_SIZE\n",
    "        X_batch = X_data[batch_start:batch_end]\n",
    "        y_batch = y_data[batch_start:batch_end]\n",
    "        \n",
    "        accuracy, loss = sess.run([accuracy_calculation, loss_operation],\n",
    "                                  feed_dict = {x:X_batch, y:y_batch})\n",
    "        \n",
    "        this_batch_size = len(X_batch)\n",
    "        \n",
    "        total_accuracy += this_batch_size * accuracy\n",
    "        total_loss     += this_batch_size * loss\n",
    "        \n",
    "    total_accuracy = total_accuracy / num_samples\n",
    "    total_loss = total_loss / num_samples\n",
    "        \n",
    "    return total_accuracy, total_loss     \n"
   ]
  },
  {
   "cell_type": "raw",
   "metadata": {
    "collapsed": false
   },
   "source": [
    "# TEMP TRUNCATE DATA FOR INITIAL TESTING\n",
    "'''\n",
    "tr = int(BATCH_SIZE * 1.2)\n",
    "va = te = int(tr * 0.2)\n",
    "print(tr, va, te, \"total:\", (tr+va+te), \"percent training: \", tr/(tr+va+te))\n",
    "X_train = X_train[0:tr]\n",
    "y_train = y_train[0:tr]\n",
    "X_valid = X_valid[0:va]\n",
    "y_valid = y_valid[0:va]\n",
    "X_test  = X_test[0:te]\n",
    "y_test  = y_test[0:te]\n",
    "print('DATA TRUNCATED TO:', len(X_train), \"SAMPLES for preliminary testing\")\n",
    "'''\n",
    "\n",
    "#EPOCHS = 30\n",
    "#print('EPOCHS TRUNCATED TO:', EPOCHS, \"EPOCHS for preliminary testing\")\n"
   ]
  },
  {
   "cell_type": "code",
   "execution_count": null,
   "metadata": {
    "collapsed": false
   },
   "outputs": [],
   "source": [
    "import time\n",
    "\n",
    "# train our model\n",
    "with tf.Session() as sess:\n",
    "    sess.run(tf.global_variables_initializer())\n",
    "    num_examples = len(X_train)\n",
    "    \n",
    "    print(\"Training...\\n\")\n",
    "    for i in range(EPOCHS):\n",
    "        print(\"EPOCH: \", i+1, \"of\", EPOCHS, \"EPOCHS\")\n",
    "        X_train, y_train = shuffle(X_train, y_train)\n",
    "        t0 = time.time()\n",
    "        for batch_start in range(0, num_examples, BATCH_SIZE):\n",
    "            batch_end = batch_start + BATCH_SIZE\n",
    "            features = X_train[batch_start:batch_end]\n",
    "            labels   = y_train[batch_start:batch_end]\n",
    "            #train\n",
    "            sess.run(training_operation, feed_dict = {x:features, y:labels})\n",
    "            if batch_start % 100 == 0:\n",
    "                print(\"        batch \", 1+batch_start//BATCH_SIZE, \"of \", 1 + int(num_examples/BATCH_SIZE))#, \"batches,  on EPOCH\", i+1, \"of\", EPOCHS, \"EPOCHS\")\n",
    "                      \n",
    "        # evaluate on validation set, and print results of model from this EPOCH\n",
    "        print(X_valid.shape)\n",
    "        validation_accuracy, validation_loss = evaluate_data(X_valid, y_valid)\n",
    "        training_accuracy,   training_loss = evaluate_data(X_train, y_train)\n",
    "        #print(\"EPOCH {} ...\".format(i+1))\n",
    "        print(\"Time: {:.3f} minutes\".format(float( (time.time()-t0) / 60 )))\n",
    "        print(\"Validation Loss = {:.3f}\".format(validation_loss))\n",
    "        print(\" (Training Loss = {:.3f})\".format(training_loss))\n",
    "        print(\"Validation Accuracy = {:.3f}\".format(validation_accuracy))\n",
    "        print(\" (Training Accuracy = {:.3f})\".format(training_accuracy))\n",
    "        print()    \n",
    "        training_stats.append([validation_loss, training_loss, valiation_accuracy, training_accuracy])\n",
    "    print(\"underfitting if:  low accuracy on training and low accuracy on validation sets.\")\n",
    "    print(\"overfitting  if: high accuracy on training but low accuracy on validation sets.\")\n",
    "    print()\n",
    "    if validation_accuracy >= 0.93:\n",
    "        print(\" !! Congratulations!! Your model meets the minimum required validation Accuracy of 0.93\")\n",
    "        print(\"   You may now run your model on the Test Set :-)\")\n",
    "    else:\n",
    "        print(\"Keep working on your model to acheive a minimum validation accuracy of 0.93\")\n",
    "    print()\n",
    "\n",
    "    # save trained model\n",
    "    saver = tf.train.Saver()\n",
    "    saver.save(sess, './sh_trained_traffic_sign_classifier')\n",
    "    print(\"Model Saved\")\n",
    "    \n",
    "    np.savetxt('test.txt', training_stats)\n",
    "    print(\"training_stats saved as training_stats.txt\")"
   ]
  },
  {
   "cell_type": "code",
   "execution_count": null,
   "metadata": {
    "collapsed": true
   },
   "outputs": [],
   "source": [
    "## STOP !! Do NOT Proceed Until Model is FINISHED and has Validation >= 93%\n",
    "\n",
    "    # underfitting if:  low accuracy on training and validation sets.\n",
    "    # overfitting  if: high accuracy on training but low accuracy on validation sets.\n",
    "\n",
    "# TODO plot chart of training stats: plot changing loss and validation rates for both training and validation sets\n",
    "\n",
    "# Read the array from disk\n",
    "training_stats_read_from+disk = np.loadtxt('training_stats.txt')\n",
    "\n",
    "# Note that this returned a 2D array!\n",
    "print training_stats_read_from.shape\n"
   ]
  },
  {
   "cell_type": "code",
   "execution_count": null,
   "metadata": {
    "collapsed": false
   },
   "outputs": [],
   "source": [
    "# test the trained model\n",
    "with tf.Session() as sess:\n",
    "    saver.restore(sess, tf.train.latest_checkpoint('.'))\n",
    "\n",
    "    test_accuracy, test_loss = evaluate_data(X_test, y_test)\n",
    "    print(test_accuracy)\n",
    "    print(\"Test Loss     = {:.3f}\".format(test_loss))\n",
    "    print(\"Test Accuracy = {:.3f}\".format(test_accuracy))\n",
    "    \n"
   ]
  },
  {
   "cell_type": "markdown",
   "metadata": {},
   "source": [
    "---\n",
    "\n",
    "## Step 3: Test a Model on New Images\n",
    "\n",
    "To give yourself more insight into how your model is working, download at least five pictures of German traffic signs from the web and use your model to predict the traffic sign type.\n",
    "\n",
    "You may find `signnames.csv` useful as it contains mappings from the class id (integer) to the actual sign name."
   ]
  },
  {
   "cell_type": "markdown",
   "metadata": {},
   "source": [
    "### Load and Output the Images"
   ]
  },
  {
   "cell_type": "code",
   "execution_count": null,
   "metadata": {
    "collapsed": true
   },
   "outputs": [],
   "source": [
    "### Load the images and plot them here.\n",
    "### Feel free to use as many code cells as needed."
   ]
  },
  {
   "cell_type": "markdown",
   "metadata": {},
   "source": [
    "### Predict the Sign Type for Each Image"
   ]
  },
  {
   "cell_type": "code",
   "execution_count": null,
   "metadata": {
    "collapsed": true
   },
   "outputs": [],
   "source": [
    "### Run the predictions here and use the model to output the prediction for each image.\n",
    "### Make sure to pre-process the images with the same pre-processing pipeline used earlier.\n",
    "### Feel free to use as many code cells as needed."
   ]
  },
  {
   "cell_type": "markdown",
   "metadata": {},
   "source": [
    "### Analyze Performance"
   ]
  },
  {
   "cell_type": "code",
   "execution_count": null,
   "metadata": {
    "collapsed": true
   },
   "outputs": [],
   "source": [
    "### Calculate the accuracy for these 5 new images. \n",
    "### For example, if the model predicted 1 out of 5 signs correctly, it's 20% accurate on these new images."
   ]
  },
  {
   "cell_type": "markdown",
   "metadata": {},
   "source": [
    "### Output Top 5 Softmax Probabilities For Each Image Found on the Web"
   ]
  },
  {
   "cell_type": "markdown",
   "metadata": {},
   "source": [
    "For each of the new images, print out the model's softmax probabilities to show the **certainty** of the model's predictions (limit the output to the top 5 probabilities for each image). [`tf.nn.top_k`](https://www.tensorflow.org/versions/r0.12/api_docs/python/nn.html#top_k) could prove helpful here. \n",
    "\n",
    "The example below demonstrates how tf.nn.top_k can be used to find the top k predictions for each image.\n",
    "\n",
    "`tf.nn.top_k` will return the values and indices (class ids) of the top k predictions. So if k=3, for each sign, it'll return the 3 largest probabilities (out of a possible 43) and the correspoding class ids.\n",
    "\n",
    "Take this numpy array as an example. The values in the array represent predictions. The array contains softmax probabilities for five candidate images with six possible classes. `tk.nn.top_k` is used to choose the three classes with the highest probability:\n",
    "\n",
    "```\n",
    "# (5, 6) array\n",
    "a = np.array([[ 0.24879643,  0.07032244,  0.12641572,  0.34763842,  0.07893497,\n",
    "         0.12789202],\n",
    "       [ 0.28086119,  0.27569815,  0.08594638,  0.0178669 ,  0.18063401,\n",
    "         0.15899337],\n",
    "       [ 0.26076848,  0.23664738,  0.08020603,  0.07001922,  0.1134371 ,\n",
    "         0.23892179],\n",
    "       [ 0.11943333,  0.29198961,  0.02605103,  0.26234032,  0.1351348 ,\n",
    "         0.16505091],\n",
    "       [ 0.09561176,  0.34396535,  0.0643941 ,  0.16240774,  0.24206137,\n",
    "         0.09155967]])\n",
    "```\n",
    "\n",
    "Running it through `sess.run(tf.nn.top_k(tf.constant(a), k=3))` produces:\n",
    "\n",
    "```\n",
    "TopKV2(values=array([[ 0.34763842,  0.24879643,  0.12789202],\n",
    "       [ 0.28086119,  0.27569815,  0.18063401],\n",
    "       [ 0.26076848,  0.23892179,  0.23664738],\n",
    "       [ 0.29198961,  0.26234032,  0.16505091],\n",
    "       [ 0.34396535,  0.24206137,  0.16240774]]), indices=array([[3, 0, 5],\n",
    "       [0, 1, 4],\n",
    "       [0, 5, 1],\n",
    "       [1, 3, 5],\n",
    "       [1, 4, 3]], dtype=int32))\n",
    "```\n",
    "\n",
    "Looking just at the first row we get `[ 0.34763842,  0.24879643,  0.12789202]`, you can confirm these are the 3 largest probabilities in `a`. You'll also notice `[3, 0, 5]` are the corresponding indices."
   ]
  },
  {
   "cell_type": "code",
   "execution_count": null,
   "metadata": {
    "collapsed": true
   },
   "outputs": [],
   "source": [
    "### Print out the top five softmax probabilities for the predictions on the German traffic sign images found on the web. \n",
    "### Feel free to use as many code cells as needed."
   ]
  },
  {
   "cell_type": "markdown",
   "metadata": {},
   "source": [
    "---\n",
    "\n",
    "## Step 4: Visualize the Neural Network's State with Test Images\n",
    "\n",
    " This Section is not required to complete but acts as an additional excersise for understaning the output of a neural network's weights. While neural networks can be a great learning device they are often referred to as a black box. We can understand what the weights of a neural network look like better by plotting their feature maps. After successfully training your neural network you can see what it's feature maps look like by plotting the output of the network's weight layers in response to a test stimuli image. From these plotted feature maps, it's possible to see what characteristics of an image the network finds interesting. For a sign, maybe the inner network feature maps react with high activation to the sign's boundary outline or to the contrast in the sign's painted symbol.\n",
    "\n",
    " Provided for you below is the function code that allows you to get the visualization output of any tensorflow weight layer you want. The inputs to the function should be a stimuli image, one used during training or a new one you provided, and then the tensorflow variable name that represents the layer's state during the training process, for instance if you wanted to see what the [LeNet lab's](https://classroom.udacity.com/nanodegrees/nd013/parts/fbf77062-5703-404e-b60c-95b78b2f3f9e/modules/6df7ae49-c61c-4bb2-a23e-6527e69209ec/lessons/601ae704-1035-4287-8b11-e2c2716217ad/concepts/d4aca031-508f-4e0b-b493-e7b706120f81) feature maps looked like for it's second convolutional layer you could enter conv2 as the tf_activation variable.\n",
    "\n",
    "For an example of what feature map outputs look like, check out NVIDIA's results in their paper [End-to-End Deep Learning for Self-Driving Cars](https://devblogs.nvidia.com/parallelforall/deep-learning-self-driving-cars/) in the section Visualization of internal CNN State. NVIDIA was able to show that their network's inner weights had high activations to road boundary lines by comparing feature maps from an image with a clear path to one without. Try experimenting with a similar test to show that your trained network's weights are looking for interesting features, whether it's looking at differences in feature maps from images with or without a sign, or even what feature maps look like in a trained network vs a completely untrained one on the same sign image.\n",
    "\n",
    "<figure>\n",
    " <img src=\"visualize_cnn.png\" width=\"380\" alt=\"Combined Image\" />\n",
    " <figcaption>\n",
    " <p></p> \n",
    " <p style=\"text-align: center;\"> Your output should look something like this (above)</p> \n",
    " </figcaption>\n",
    "</figure>\n",
    " <p></p> \n"
   ]
  },
  {
   "cell_type": "code",
   "execution_count": null,
   "metadata": {
    "collapsed": true
   },
   "outputs": [],
   "source": [
    "### Visualize your network's feature maps here.\n",
    "### Feel free to use as many code cells as needed.\n",
    "\n",
    "# image_input: the test image being fed into the network to produce the feature maps\n",
    "# tf_activation: should be a tf variable name used during your training procedure that represents the calculated state of a specific weight layer\n",
    "# activation_min/max: can be used to view the activation contrast in more detail, by default matplot sets min and max to the actual min and max values of the output\n",
    "# plt_num: used to plot out multiple different weight feature map sets on the same block, just extend the plt number for each new feature map entry\n",
    "\n",
    "def outputFeatureMap(image_input, tf_activation, activation_min=-1, activation_max=-1 ,plt_num=1):\n",
    "    # Here make sure to preprocess your image_input in a way your network expects\n",
    "    # with size, normalization, ect if needed\n",
    "    # image_input =\n",
    "    # Note: x should be the same name as your network's tensorflow data placeholder variable\n",
    "    # If you get an error tf_activation is not defined it maybe having trouble accessing the variable from inside a function\n",
    "    activation = tf_activation.eval(session=sess,feed_dict={x : image_input})\n",
    "    featuremaps = activation.shape[3]\n",
    "    plt.figure(plt_num, figsize=(15,15))\n",
    "    for featuremap in range(featuremaps):\n",
    "        plt.subplot(6,8, featuremap+1) # sets the number of feature maps to show on each row and column\n",
    "        plt.title('FeatureMap ' + str(featuremap)) # displays the feature map number\n",
    "        if activation_min != -1 & activation_max != -1:\n",
    "            plt.imshow(activation[0,:,:, featuremap], interpolation=\"nearest\", vmin =activation_min, vmax=activation_max, cmap=\"gray\")\n",
    "        elif activation_max != -1:\n",
    "            plt.imshow(activation[0,:,:, featuremap], interpolation=\"nearest\", vmax=activation_max, cmap=\"gray\")\n",
    "        elif activation_min !=-1:\n",
    "            plt.imshow(activation[0,:,:, featuremap], interpolation=\"nearest\", vmin=activation_min, cmap=\"gray\")\n",
    "        else:\n",
    "            plt.imshow(activation[0,:,:, featuremap], interpolation=\"nearest\", cmap=\"gray\")"
   ]
  },
  {
   "cell_type": "markdown",
   "metadata": {},
   "source": [
    "### Question 9\n",
    "\n",
    "Discuss how you used the visual output of your trained network's feature maps to show that it had learned to look for interesting characteristics in traffic sign images\n"
   ]
  },
  {
   "cell_type": "markdown",
   "metadata": {},
   "source": [
    "**Answer:**"
   ]
  },
  {
   "cell_type": "markdown",
   "metadata": {},
   "source": [
    "> **Note**: Once you have completed all of the code implementations and successfully answered each question above, you may finalize your work by exporting the iPython Notebook as an HTML document. You can do this by using the menu above and navigating to  \\n\",\n",
    "    \"**File -> Download as -> HTML (.html)**. Include the finished document along with this notebook as your submission."
   ]
  },
  {
   "cell_type": "markdown",
   "metadata": {},
   "source": [
    "### Project Writeup\n",
    "\n",
    "Once you have completed the code implementation, document your results in a project writeup using this [template](https://github.com/udacity/CarND-Traffic-Sign-Classifier-Project/blob/master/writeup_template.md) as a guide. The writeup can be in a markdown or pdf file. "
   ]
  }
 ],
 "metadata": {
  "anaconda-cloud": {},
  "kernelspec": {
   "display_name": "Python 3",
   "language": "python",
   "name": "python3"
  },
  "language_info": {
   "codemirror_mode": {
    "name": "ipython",
    "version": 3
   },
   "file_extension": ".py",
   "mimetype": "text/x-python",
   "name": "python",
   "nbconvert_exporter": "python",
   "pygments_lexer": "ipython3",
   "version": "3.5.2"
  },
  "widgets": {
   "state": {},
   "version": "1.1.2"
  }
 },
 "nbformat": 4,
 "nbformat_minor": 1
}
